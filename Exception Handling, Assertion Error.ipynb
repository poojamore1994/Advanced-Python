{
 "cells": [
  {
   "cell_type": "code",
   "execution_count": 5,
   "metadata": {},
   "outputs": [
    {
     "name": "stdout",
     "output_type": "stream",
     "text": [
      "name 'b' is not defined\n"
     ]
    }
   ],
   "source": [
    "## try --except\n",
    "try:\n",
    "    a=b    \n",
    "except Exception as ex:\n",
    "    print(ex)"
   ]
  },
  {
   "cell_type": "code",
   "execution_count": 16,
   "metadata": {},
   "outputs": [
    {
     "name": "stdout",
     "output_type": "stream",
     "text": [
      "Enter the number 1:12\n",
      "Enter the  number 2:6\n",
      "18\n",
      "2.0\n",
      "72\n"
     ]
    }
   ],
   "source": [
    "## try --else\n",
    "try:\n",
    "    a=int(input(\"Enter the number 1:\"))\n",
    "    b=int(input(\"Enter the  number 2:\"))\n",
    "    c=a/b\n",
    "    d=a*b\n",
    "    e=a+b\n",
    "except NameError:\n",
    "    print(\"There is a Name error\")\n",
    "except ZeroDivisionError:\n",
    "    print(\"Please provide number >0\")\n",
    "except TypeError:\n",
    "    print(\"Data Type Error\")\n",
    "except Exception as ex:\n",
    "    print(ex)\n",
    "else:\n",
    "    print(e)\n",
    "    print(c)\n",
    "    print(d)\n",
    "    "
   ]
  },
  {
   "cell_type": "code",
   "execution_count": 19,
   "metadata": {},
   "outputs": [
    {
     "name": "stdout",
     "output_type": "stream",
     "text": [
      "Enter the number 1:12\n",
      "Enter the  number 2:0\n",
      "Please provide number >0\n",
      "The exceution is completed\n"
     ]
    }
   ],
   "source": [
    "## try -else-finally\n",
    "try:\n",
    "    a=int(input(\"Enter the number 1:\"))\n",
    "    b=int(input(\"Enter the  number 2:\"))\n",
    "    c=a/b\n",
    "except NameError:\n",
    "    print(\"There is a Name error\")\n",
    "except ZeroDivisionError:\n",
    "    print(\"Please provide number >0\")\n",
    "except TypeError:\n",
    "    print(\"Data Type Error\")\n",
    "except Exception as ex:\n",
    "    print(ex)\n",
    "else:\n",
    "    print(c)\n",
    "finally:\n",
    "    print(\"The exceution is completed\")"
   ]
  },
  {
   "cell_type": "markdown",
   "metadata": {},
   "source": [
    "# Custom Exception"
   ]
  },
  {
   "cell_type": "code",
   "execution_count": 20,
   "metadata": {},
   "outputs": [],
   "source": [
    "class Error(Exception):\n",
    "    pass\n",
    "\n",
    "class dobException(Error):\n",
    "    pass\n",
    "\n",
    "\n"
   ]
  },
  {
   "cell_type": "code",
   "execution_count": 27,
   "metadata": {},
   "outputs": [
    {
     "name": "stdout",
     "output_type": "stream",
     "text": [
      "Enter year of birth1987\n",
      "The year is not valid\n"
     ]
    }
   ],
   "source": [
    "\n",
    "year=int(input(\"Enter year of birth\"))\n",
    "age=2021-year\n",
    "try:\n",
    "    if age<=30 & age>20:\n",
    "        print(\"The age is valid\")\n",
    "    else:\n",
    "        raise dobException\n",
    "except dobException:\n",
    "    print(\"The year is not valid\")\n",
    "    "
   ]
  },
  {
   "cell_type": "code",
   "execution_count": null,
   "metadata": {},
   "outputs": [],
   "source": []
  }
 ],
 "metadata": {
  "kernelspec": {
   "display_name": "Python 3",
   "language": "python",
   "name": "python3"
  },
  "language_info": {
   "codemirror_mode": {
    "name": "ipython",
    "version": 3
   },
   "file_extension": ".py",
   "mimetype": "text/x-python",
   "name": "python",
   "nbconvert_exporter": "python",
   "pygments_lexer": "ipython3",
   "version": "3.8.3"
  }
 },
 "nbformat": 4,
 "nbformat_minor": 4
}
